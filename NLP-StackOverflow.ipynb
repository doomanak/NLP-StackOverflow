{
 "cells": [
  {
   "cell_type": "markdown",
   "metadata": {
    "slideshow": null
   },
   "source": [
    "# 1.Introduction and Problem Statement\n"
   ]
  },
  {
   "cell_type": "markdown",
   "metadata": {},
   "source": [
    "Stack Overflow is a well-knwn collaboratively edited question & answer website mainly focused on computer programming topics. Each post on Stack Overflow can be upvoted, downvoted, and favorited, and these feedback metrics give us an opportunity to run analysis of the users behavior. I was interested in looking for useful patterns in the data and answer the following questions:\n",
    "\n",
    "<br> **1- Is there any corrolation between the score of a psot and the number of times it was favorited by the users?\n",
    "<br>2- Do the users with the highest reputation mainly post answers? or do they mainly post question posts?\n",
    "<br>3- Does the first question posted by users indicate their future behavior?\n",
    "<br>4- Could natural language processing be used to predict the tags of a question from its body text?**"
   ]
  },
  {
   "cell_type": "markdown",
   "metadata": {},
   "source": [
    "In this project, PySpark was utilized to perform data manipulation, analysis and machine learning on Stack Overflow posts. Spark is a distributed-computing framework, which provides a fast and general engine for large-scale data processing."
   ]
  },
  {
   "cell_type": "markdown",
   "metadata": {
    "slideshow": null
   },
   "source": [
    "## 1.1. Data set"
   ]
  },
  {
   "cell_type": "markdown",
   "metadata": {},
   "source": [
    "Stack Exchange provides an anonymized [data dump](https://archive.org/details/stackexchange). The data set includes information about posts, users, and vote on posts. The raw data contains more than 212,000 posts in XML format which need to be parsed efficiently. To this aim, ElementTree library in python was utilized to develop functions for parsing the XMLs and extracting the target elements from raw XML data. These functions were mapped into the raw data to create RDDs and leverage the disctrubited computing power of spark."
   ]
  },
  {
   "cell_type": "markdown",
   "metadata": {},
   "source": [
    "## 1.2. Importing libraries"
   ]
  },
  {
   "cell_type": "code",
   "execution_count": 38,
   "metadata": {},
   "outputs": [],
   "source": [
    "import numpy as np\n",
    "from lxml import etree\n",
    "import matplotlib.pyplot as plt\n",
    "from pyspark import SparkContext\n",
    "from datetime import datetime\n",
    "from itertools import groupby\n",
    "from collections import defaultdict\n",
    "from scipy.stats import pearsonr\n",
    "import re\n",
    "import nltk\n",
    "from nltk.corpus import stopwords\n",
    "from nltk.stem.snowball import SnowballStemmer\n",
    "from pyspark.sql import SQLContext\n",
    "from pyspark.ml.classification import LogisticRegression\n",
    "from pyspark.ml.feature import HashingTF, Tokenizer\n",
    "from pyspark.ml import Pipeline\n",
    "from pyspark.ml.tuning import CrossValidator, ParamGridBuilder\n",
    "from pyspark.ml.evaluation import BinaryClassificationEvaluator\n",
    "import os"
   ]
  },
  {
   "cell_type": "markdown",
   "metadata": {},
   "source": [
    "# 2. Data Cleaning"
   ]
  },
  {
   "cell_type": "markdown",
   "metadata": {},
   "source": [
    "The first  step is to clea the data. I started by making a Spark context. This object manages the resources available to a Spark job."
   ]
  },
  {
   "cell_type": "code",
   "execution_count": 3,
   "metadata": {},
   "outputs": [
    {
     "name": "stdout",
     "output_type": "stream",
     "text": [
      "3.0.1\n"
     ]
    }
   ],
   "source": [
    "sc = SparkContext(\"local[*]\", \"temp\")\n",
    "print (sc.version)"
   ]
  },
  {
   "cell_type": "code",
   "execution_count": 4,
   "metadata": {},
   "outputs": [],
   "source": [
    "def localpath(path):\n",
    "    return 'file://' + str(os.path.abspath(os.path.curdir)) + '/' + path"
   ]
  },
  {
   "cell_type": "markdown",
   "metadata": {},
   "source": [
    "Let's count the total number of posts:"
   ]
  },
  {
   "cell_type": "code",
   "execution_count": 5,
   "metadata": {},
   "outputs": [
    {
     "name": "stdout",
     "output_type": "stream",
     "text": [
      "Total number of posts: 212990\n"
     ]
    }
   ],
   "source": [
    "total_posts = sc.textFile(localpath('spark-stats-data/allPosts/')).count()\n",
    "print (\"Total number of posts: %d\" % total_posts)"
   ]
  },
  {
   "cell_type": "markdown",
   "metadata": {},
   "source": [
    "Some rows are split across multiple lines; these can be discarded. Hence, only rows that start with `<row` were considered as these denote actual data entries, and incorrectly formatted XMLs were ignored. It is enough to simply skip problematic rows, since the loss of data will not significantly impact our results on this large data sets. Therefore,  the following functions were defined to discard the incorrectly formatted XMLs."
   ]
  },
  {
   "cell_type": "code",
   "execution_count": 6,
   "metadata": {},
   "outputs": [],
   "source": [
    "def startrow(line):\n",
    "    l = line.strip().strip('\\n')\n",
    "    return (l.find(\"<row \")==0) \n",
    "def isrow(line):\n",
    "    l = line.strip().strip('\\n')\n",
    "    return (l.find(\"<row \")==0 and l[-3:]==\" />\")"
   ]
  },
  {
   "cell_type": "code",
   "execution_count": 7,
   "metadata": {},
   "outputs": [
    {
     "name": "stdout",
     "output_type": "stream",
     "text": [
      "Total number of discarded posts: 781\n"
     ]
    }
   ],
   "source": [
    "total_XMLs = sc.textFile(localpath('/spark-stats-data/allPosts/'))\\\n",
    "               .filter(lambda x: startrow(x))\\\n",
    "               .count()\n",
    "complete_XMLs = sc.textFile(localpath('spark-stats-data/allPosts/'))\\\n",
    "                  .filter(lambda x: isrow(x))\\\n",
    "                  .count()\n",
    "print (\"Total number of discarded posts: %d\" % (total_XMLs-complete_XMLs))"
   ]
  },
  {
   "cell_type": "markdown",
   "metadata": {},
   "source": [
    "There are only 781 posts that should be discarded, so removing this small portion of the data won't have significant effect on our analysis."
   ]
  },
  {
   "cell_type": "markdown",
   "metadata": {},
   "source": [
    "# 3. Exploratory Data Analysis"
   ]
  },
  {
   "cell_type": "markdown",
   "metadata": {},
   "source": [
    "Now let's exlore the data and try to answer some intersting questions."
   ]
  },
  {
   "cell_type": "markdown",
   "metadata": {
    "slideshow": null
   },
   "source": [
    "### 3.1. Is thee any corrolation between the score of a psot and the number of times it was favorited by the users?"
   ]
  },
  {
   "cell_type": "markdown",
   "metadata": {
    "slideshow": null
   },
   "source": [
    "If we look at the Post data, we see that many things about each post are recorded.  We're going to start by looking to see if there is a relationship between the number of times a post was favorited (the `FavoriteCount`) and the `Score`.  The score is the number of times the post was upvoted minus the number of times it was downvoted.  We'd expect posts with a higher number of favorites to have better scores, since they're both measurements of how good the post is."
   ]
  },
  {
   "cell_type": "code",
   "execution_count": 48,
   "metadata": {},
   "outputs": [],
   "source": [
    "def favcounts(x):\n",
    "    if x.find('FavoriteCount=')==-1:\n",
    "        favcount = 0\n",
    "    else:\n",
    "        favcount=int(x[(x.find('FavoriteCount=')+15):(x.find('\" Id='))])\n",
    "    if x.find('Score=')==-1:\n",
    "        Score = 0\n",
    "    else:\n",
    "        try:\n",
    "            Score=int(x[x.find('Score=\"')+7:x.find('\" />')])\n",
    "        except:\n",
    "            Score=int(x[x.find('Score=\"')+7:x.find('\" Tags=')])\n",
    "    \n",
    "    return [favcount,Score]"
   ]
  },
  {
   "cell_type": "code",
   "execution_count": 49,
   "metadata": {},
   "outputs": [],
   "source": [
    "data=sc.textFile(localpath('/spark-stats-data/allPosts/'))\\\n",
    "        .filter(lambda x: isrow(x))\\\n",
    "        .map(lambda x: (favcounts(x)[0], favcounts(x)[1]))\\\n",
    "        .collect()"
   ]
  },
  {
   "cell_type": "markdown",
   "metadata": {},
   "source": [
    "Let's aggregate posts by the number of favorites, and find the average score for each number of favorites."
   ]
  },
  {
   "cell_type": "code",
   "execution_count": 10,
   "metadata": {},
   "outputs": [],
   "source": [
    "data_ = [(n,[i[1] for i in g]) for n,g in groupby(data, key = lambda x:x[0])]   \n",
    "result = [(i,float(sum(j))/float(len(j))) for i,j in data_]"
   ]
  },
  {
   "cell_type": "code",
   "execution_count": 11,
   "metadata": {},
   "outputs": [
    {
     "data": {
      "text/plain": [
       "Text(0.5, 1.0, 'Corrolation between Favorite Counts and Score')"
      ]
     },
     "execution_count": 11,
     "metadata": {},
     "output_type": "execute_result"
    },
    {
     "data": {
      "image/png": "[encoded data removed]",
      "text/plain": [
       "<Figure size 432x288 with 1 Axes>"
      ]
     },
     "metadata": {
      "needs_background": "light"
     },
     "output_type": "display_data"
    }
   ],
   "source": [
    "avg = defaultdict(lambda :{'count': 0, 'sum': 0})\n",
    "\n",
    "# calculate the sum and count for each key\n",
    "for k, v in data:\n",
    "    avg[k]['count'] += 1\n",
    "    avg[k]['sum'] += v\n",
    "\n",
    "# calculate the average\n",
    "result=[(k, v['sum']/v['count']) for k, v in avg.items()]\n",
    "result.sort(key = lambda x: x[0])\n",
    "Final_results=result\n",
    "x_data = np.array([tup[0] for tup in Final_results])\n",
    "y_data = np.array([tup[1] for tup in Final_results])\n",
    "plt.plot(x_data, y_data,'*')\n",
    "m, b = np.polyfit(x_data, y_data, 1)\n",
    "plt.plot(x_data, m*x_data + b,'k--')\n",
    "plt.xlabel('Favorite Counts')\n",
    "plt.ylabel('Score')\n",
    "plt.title(\"Corrolation between Favorite Counts and Score\") "
   ]
  },
  {
   "cell_type": "code",
   "execution_count": 12,
   "metadata": {},
   "outputs": [
    {
     "name": "stdout",
     "output_type": "stream",
     "text": [
      "Pearson's correlation between Favorite Counts and Score of posts: 0.955\n"
     ]
    }
   ],
   "source": [
    "corr, _ = pearsonr(x_data, y_data)\n",
    "print(\"Pearson's correlation between Favorite Counts and Score of posts: %.3f\" % corr)"
   ]
  },
  {
   "cell_type": "markdown",
   "metadata": {},
   "source": [
    "As shown in the plot and based on the Pearson's correlation coefficient , there is a strong corrolation between the score of a psot and the number of times it was favorited by the users. Now, let's try to find the answer of the second question."
   ]
  },
  {
   "cell_type": "markdown",
   "metadata": {
    "slideshow": null
   },
   "source": [
    "### 3.2.  Do the users with the highest reputation mainly post answers? or do they mainly post question posts?"
   ]
  },
  {
   "cell_type": "markdown",
   "metadata": {
    "slideshow": null
   },
   "source": [
    "Let's investigate the correlation between a user's reputation and the type of posts (Answers or Questions) they make. To this aim, I singled out posts which are either questions or answers for the 100 users with the highest reputation and looked at the percentage of these posts that are answers: *(answers / (answers + questions))*. "
   ]
  },
  {
   "cell_type": "code",
   "execution_count": 13,
   "metadata": {},
   "outputs": [],
   "source": [
    "## Creating RDDs of all valid posts\n",
    "rows_post = sc.textFile(localpath('/spark-stats-data/allPosts/'))\\\n",
    "              .filter(lambda x: isrow(x))"
   ]
  },
  {
   "cell_type": "code",
   "execution_count": 14,
   "metadata": {},
   "outputs": [],
   "source": [
    "## Functions to find the question and answer types of posts\n",
    "def posttype(t,line):\n",
    "    return ' PostTypeId=\"'+str(t)+'\" ' in line\n",
    "def postowner(x):\n",
    "    start = x.find('OwnerUserId=')+13\n",
    "    if start==12:\n",
    "        return '0'\n",
    "    a = x.find('\" ParentId=')\n",
    "    if a==-1:\n",
    "        end = x.find('\" PostTypeId=')\n",
    "        return str(x[start:end])\n",
    "    else:\n",
    "        return str(x[start:a])\n",
    "questions = rows_post.filter(lambda x: posttype(1,x)).map(lambda x:postowner(x))\n",
    "answers = rows_post.filter(lambda x: posttype(2,x)).map(lambda x:postowner(x))\n",
    "a_dic = answers.countByValue()\n",
    "q_dic = questions.countByValue()"
   ]
  },
  {
   "cell_type": "code",
   "execution_count": 15,
   "metadata": {},
   "outputs": [],
   "source": [
    "## Function to extract the reputation of the users\n",
    "def user_rep(x):\n",
    "    acc = str(x[x.find('\" Id=\"')+6:x.find('\" LastAccessDate=')])\n",
    "   \n",
    "    if x.find('Reputation=\"')==-1:\n",
    "        return [acc,0]\n",
    "    else:\n",
    "        rep = int(x[x.find('Reputation=\"')+12:x.find('\" UpVotes=')])\n",
    "        return [acc,rep]\n",
    "lines_user = sc.textFile(localpath('/spark-stats-data/allUsers/'))\n",
    "rows_user=lines_user.filter(lambda x: isrow(x)) \n",
    "reputation = rows_user.map(user_rep)\n",
    "reputation_user = reputation.map(lambda x:(x[1],x[0])).sortByKey(ascending=False)"
   ]
  },
  {
   "cell_type": "markdown",
   "metadata": {},
   "source": [
    "Now, let's plot the histogram of Answer posts/(Answer posts + Question posts) for the 100 users with the highest reputation"
   ]
  },
  {
   "cell_type": "code",
   "execution_count": 16,
   "metadata": {},
   "outputs": [
    {
     "data": {
      "text/plain": [
       "Text(0, 0.5, 'Counts')"
      ]
     },
     "execution_count": 16,
     "metadata": {},
     "output_type": "execute_result"
    },
    {
     "data": {
      "image/png": "[encoded data removed]",
      "text/plain": [
       "<Figure size 432x288 with 1 Axes>"
      ]
     },
     "metadata": {
      "needs_background": "light"
     },
     "output_type": "display_data"
    }
   ],
   "source": [
    "topusers = reputation_user.collect()[0:99]\n",
    "output = []\n",
    "for user in topusers:\n",
    "    ID = int(user[1])\n",
    "    q = q_dic[user[1]]\n",
    "    a = a_dic[user[1]]\n",
    "    if a+q==0:\n",
    "        rate = 0\n",
    "    else:\n",
    "        rate = a*1.0/(a+q)\n",
    "    output.append([ID,rate])\n",
    "#\n",
    "plt.hist([top[1] for top in output], bins=10)\n",
    "plt.xlabel('Answer posts / (Answer posts + Question posts)')\n",
    "plt.ylabel('Counts')"
   ]
  },
  {
   "cell_type": "markdown",
   "metadata": {},
   "source": [
    "The plot of histogram clrealy shows that users with the highest reputations are mainly deidicated posting answers rather than posting questions!"
   ]
  },
  {
   "cell_type": "markdown",
   "metadata": {},
   "source": [
    "### 3.3. Does the first question posted by users indicate their future behavior?"
   ]
  },
  {
   "cell_type": "markdown",
   "metadata": {
    "slideshow": null
   },
   "source": [
    "It is interesting to think about what factors influence a user to remain active on the website over a long period of time. In order not to bias the results towards older users, we'll define a time window between 100 and 150 days after account creation. If the user has made a post in this time, we'll consider them active and well on their way to being **veterans** of the site; if not, they are inactive and were likely **brief** users.\n",
    "\n",
    "\n",
    "Let's see if there are differences between the **first ever question posts** of \"veterans\" vs. \"brief users\". Therefore, for each group we provide the follwoing: average score, views, number of answers, and number of favorites of the users' **first question**.\n"
   ]
  },
  {
   "cell_type": "code",
   "execution_count": 17,
   "metadata": {},
   "outputs": [],
   "source": [
    "def isRow(line):\n",
    "    return '<row' in line and '/>' in line\n",
    "\n",
    "def get_allpost(line):\n",
    "    root = etree.XML(line)\n",
    "    ownerid, posttype, Id, Time, Score, ViewCount, AnsCount, FavCount = ('0',)*8\n",
    "    if 'OwnerUserId' in root.attrib:\n",
    "        ownerid = root.get('OwnerUserId')\n",
    "        \n",
    "    if 'PostTypeId' in root.attrib:\n",
    "        posttype = root.get('PostTypeId')  \n",
    "        \n",
    "    if 'Id' in root.attrib:\n",
    "        Id = root.get('Id')\n",
    "    \n",
    "    if 'CreationDate' in root.attrib: \n",
    "        Time = root.get('CreationDate')\n",
    "        Time = datetime.strptime( Time.split('.')[0], \"%Y-%m-%dT%H:%M:%S\" )\n",
    "\n",
    "    if 'Score' in root.attrib :\n",
    "        Score = root.get('Score')\n",
    "        \n",
    "    if 'ViewCount' in root.attrib: \n",
    "        ViewCount = root.get('ViewCount')\n",
    "        \n",
    "    if 'AnswerCount' in root.attrib:   \n",
    "        AnsCount = root.get('AnswerCount')\n",
    "\n",
    "    if 'FavoriteCount' in root.attrib:\n",
    "        FavCount = root.get('FavoriteCount')\n",
    "\n",
    "    return (ownerid, (posttype, Id, Time, Score, ViewCount, AnsCount, FavCount))\n",
    "\n",
    "\n",
    "def get_auser(line):\n",
    "    root = etree.XML(line)\n",
    "    if 'Id' in root.attrib and 'CreationDate' in root.attrib:\n",
    "        Id = root.get('Id')   \n",
    "        Time = root.get('CreationDate')\n",
    "        Time = datetime.strptime( Time.split('.')[0], \"%Y-%m-%dT%H:%M:%S\" )\n",
    "        return (Id, Time)\n",
    "    else:\n",
    "        return None\n",
    "\n",
    "users = sc.textFile(localpath('spark-stats-data/allUsers/'))\\\n",
    "        .filter(isRow)\\\n",
    "        .map(get_auser)\\\n",
    "        .filter(lambda x: x is not None)"
   ]
  },
  {
   "cell_type": "code",
   "execution_count": 18,
   "metadata": {},
   "outputs": [],
   "source": [
    "def test_Veteran(data):\n",
    "    (x,y) = data\n",
    "    if not y[1]:\n",
    "        return None\n",
    "    init_time = y[1]\n",
    "    delta_time_list = []\n",
    "    if not y[0]:\n",
    "        return None\n",
    "    for yy in y[0]:\n",
    "        if not yy[2]:\n",
    "            return None\n",
    "        dt = yy[2] - init_time\n",
    "        if dt.days >= 100 and dt.days <= 150 :\n",
    "            return True\n",
    "    return False\n",
    "        \n",
    "def earliest_question(data):\n",
    "    (x, y) = data\n",
    "    early = y[0]\n",
    "    if len(y)>1:\n",
    "        for yy in y[1:]:\n",
    "            if yy[2] < early[2]:\n",
    "                early = yy        \n",
    "    return (x, early)\n",
    "\n",
    "vets = sc.textFile(localpath('spark-stats-data/allPosts/'))\\\n",
    "        .filter(isRow)\\\n",
    "        .map(get_allpost)\\\n",
    "        .filter(lambda x: x is not None)\\\n",
    "        .map(lambda x: (x[0], [x[1],]))\\\n",
    "        .reduceByKey(lambda x, y: x + y)\\\n",
    "        .join(users)\\\n",
    "        .filter(lambda x: test_Veteran(x)==True)\\\n",
    "        .map(lambda x : (x[0], [yy for yy in x[1][0] if yy[0] =='1'] ) ) \\\n",
    "        .filter(lambda x: x[1]!=[])\\\n",
    "        .map(earliest_question)\\\n",
    "        .map(lambda x: (x[0], (x[1][3],x[1][4],x[1][5],x[1][6])))\n",
    "\n",
    "\n",
    "briefs = sc.textFile(localpath('spark-stats-data/allPosts/'))\\\n",
    "        .filter(isRow)\\\n",
    "        .map(get_allpost)\\\n",
    "        .filter(lambda x: x is not None)\\\n",
    "        .map(lambda x: (x[0], [x[1],]))\\\n",
    "        .reduceByKey(lambda x, y: x + y)\\\n",
    "        .join(users)\\\n",
    "        .filter(lambda x: test_Veteran(x)==False)\\\n",
    "        .map(lambda x : (x[0], [yy for yy in x[1][0] if yy[0] =='1'] ) ) \\\n",
    "        .filter(lambda x: x[1]!=[])\\\n",
    "        .map(earliest_question)\\\n",
    "        .map(lambda x: (x[0], (x[1][3],x[1][4],x[1][5],x[1][6])))"
   ]
  },
  {
   "cell_type": "code",
   "execution_count": 19,
   "metadata": {},
   "outputs": [
    {
     "name": "stdout",
     "output_type": "stream",
     "text": [
      "[3.5322843190450355, 927.7042864894195, 1.2962561041779708, 1.2930005425935973]\n",
      "[2.100084697910785, 552.9672971955581, 0.9704968944099379, 0.5757105213626953]\n"
     ]
    }
   ],
   "source": [
    "vets_stat = vets.map(lambda x: ('1', (1, int(x[1][0]),int(x[1][1]),int(x[1][2]),int(x[1][3]))) )\\\n",
    "                .reduceByKey(lambda x,y: (x[0]+y[0], x[1]+y[1], x[2]+y[2], x[3]+y[3], x[4]+y[4]) )\\\n",
    "                .collect()\n",
    "\n",
    "x,y = vets_stat[0]\n",
    "print ([1.0*yy/y[0] for yy in y[1:] ])\n",
    "vscore, vviews, vans, vfav = [1.0*yy/y[0] for yy in y[1:] ]\n",
    "\n",
    "\n",
    "briefs_stat = briefs.map(lambda x: ('1', (1, int(x[1][0]),int(x[1][1]),int(x[1][2]),int(x[1][3]))) )\\\n",
    "                .reduceByKey(lambda x,y: (x[0]+y[0], x[1]+y[1], x[2]+y[2], x[3]+y[3], x[4]+y[4]) )\\\n",
    "                .collect()\n",
    "\n",
    "x,y = briefs_stat[0]\n",
    "print ([1.0*yy/y[0] for yy in y[1:] ])\n",
    "bscore, bviews, bans, bfav = [1.0*yy/y[0] for yy in y[1:] ]"
   ]
  },
  {
   "cell_type": "markdown",
   "metadata": {},
   "source": [
    "| Group | Average Score | Views | Number of Answers | Number of Favorites |\n",
    "| :-: | :-: | :-: | :-: | :-: |\n",
    "| Veterans | 3.53 | 927.7 |  1.3 |  1.3  |\n",
    "| Briefs | 2.10 | 553 |  0.97 |  0.57  |"
   ]
  },
  {
   "cell_type": "markdown",
   "metadata": {},
   "source": [
    "Based on the results shown in the table, first ever question posts of veterans are more attractive compared to first ever question posts of briefis. This proofs the idea that the first question posted by users could be a sign for their future behavior."
   ]
  },
  {
   "cell_type": "markdown",
   "metadata": {
    "slideshow": null
   },
   "source": [
    "# 4.Natural Language Processing\n"
   ]
  },
  {
   "cell_type": "markdown",
   "metadata": {},
   "source": [
    "### Could natural language processing be used to predict the tags of a question from its body text?"
   ]
  },
  {
   "cell_type": "markdown",
   "metadata": {
    "slideshow": null
   },
   "source": [
    "I'd like to see if it's possible to predict the tags of a **question** from its body text. Instead of predicting specific tags, we will instead try to predict if a question contains one of the top ten most common tags. The application of the NLP is that when a user posts a questions without adding tags to the post, our model can predict what tags should be assigned to it, and later on these tags could be used to facilated the searching and finding the relevent information."
   ]
  },
  {
   "cell_type": "markdown",
   "metadata": {},
   "source": [
    "The tags of posts were extracted throught the following function that parses the XMLs and finds the \"Tags\" elements:"
   ]
  },
  {
   "cell_type": "code",
   "execution_count": 20,
   "metadata": {},
   "outputs": [],
   "source": [
    "def get_tags(line):\n",
    "    root = etree.XML(line)\n",
    "    tags = []\n",
    "    if 'Tags' in root.attrib: \n",
    "        Tag_str = root.get('Tags')\n",
    "        tags = Tag_str.replace('&lt;', ' ').replace('&gt;', ' ').replace('<', ' ').replace('>', ' ').split()\n",
    "    else:\n",
    "        return None\n",
    "    return tags\n",
    "Num_tags_sorted=sc.textFile(localpath('spark-class-data/posts_train/'))\\\n",
    "                    .filter(lambda x: isrow(x))\\\n",
    "                    .map(get_tags)\\\n",
    "                    .filter(lambda x: x is not None)\\\n",
    "                    .flatMap(lambda doc: [(x, 1) for x in doc])\\\n",
    "                    .reduceByKey(lambda x, y: x+y)\\\n",
    "                    .map(lambda x: (x[1],x[0]))\\\n",
    "                    .sortByKey(ascending=False)\n",
    "top_10_tagss=Num_tags_sorted.map(lambda x: x[1]).take(10)"
   ]
  },
  {
   "cell_type": "markdown",
   "metadata": {},
   "source": [
    "**Text Cleaning:** Let's extract the body text of questions and then convert them to lower-case and and remove punctuations and non-alphabetic characters from the body text."
   ]
  },
  {
   "cell_type": "code",
   "execution_count": 39,
   "metadata": {},
   "outputs": [],
   "source": [
    "TAG_RE = re.compile(r'<[a-z/]+>')\n",
    "\n",
    "mytag = top_10_tagss\n",
    "\n",
    "def get_body(line):\n",
    "    root = etree.XML(line)\n",
    "    body = []\n",
    "    if 'Body' in root.attrib: \n",
    "        body_str = root.get('Body')\n",
    "        body_str = TAG_RE.sub('', body_str)\n",
    "        body_str = re.sub(r'[?|!|\\'|\"|#]',r'',body_str)\n",
    "        body_str = re.sub(r'[.|,|)|(|\\|/]',r'',body_str)\n",
    "        body_str= body_str.strip()\n",
    "        body_str = body_str.replace('\\n',' ').lower()        \n",
    "    else:\n",
    "        return None\n",
    "        \n",
    "    if 'Tags' in root.attrib: \n",
    "        Tag_str = root.get('Tags')\n",
    "        tags = Tag_str.replace('&lt;', ' ').replace('&gt;', ' ').replace('<', ' ').replace('>', ' ').split()\n",
    "        if any(item in tags for item in top_10_tagss):\n",
    "            y = 1.0\n",
    "        else:\n",
    "            y = 0.0\n",
    "    else:\n",
    "        return None\n",
    "    \n",
    "    if 'Id' in root.attrib:\n",
    "        Id = root.get('Id')  \n",
    "\n",
    "    return (body_str, y, Id)"
   ]
  },
  {
   "cell_type": "markdown",
   "metadata": {},
   "source": [
    "**Removing stopwords and Performing the word stemming:** I defined the `removeStopWords` fuction to removed all the stop-words present in the texts using the default set of stop-words that can be downloaded from NLTK library. I also added few stop-words to the standard list. Stop words are basically a set of commonly used words in any language, not just English. The reason why stop words are critical to many applications is that, if we remove the words that are very commonly used in a given language, we can focus on the important words instead.\n",
    "Moreover, I defined the `stemming` function to perform stemming as well. There exist different kinds of stemming which basically transform words with roughly the same semantics to one standard form."
   ]
  },
  {
   "cell_type": "code",
   "execution_count": 23,
   "metadata": {},
   "outputs": [],
   "source": [
    "stop_words = set(stopwords.words('english'))\n",
    "stop_words.update(['zero','one','two','three','four','five','six','seven','eight','nine','ten','may','also','across','among','beside','however','yet','within'])\n",
    "re_stop_words = re.compile(r\"\\b(\" + \"|\".join(stop_words) + \")\\\\W\", re.I)\n",
    "def removeStopWords(sentence):\n",
    "    global re_stop_words\n",
    "    return re_stop_words.sub(\" \", sentence)\n",
    "###\n",
    "stemmer = SnowballStemmer(\"english\")\n",
    "def stemming(sentence):\n",
    "    stemSentence = \"\"\n",
    "    for word in sentence.split():\n",
    "        stem = stemmer.stem(word)\n",
    "        stemSentence += stem\n",
    "        stemSentence += \" \"\n",
    "    stemSentence = stemSentence.strip()\n",
    "    return stemSentence"
   ]
  },
  {
   "cell_type": "markdown",
   "metadata": {},
   "source": [
    "The spark `ml` package is based on DataFrames. So, it is required to convert RDDs into DataFrames for NLP tasks. A DataFrame is a distributed collection of data organized into named columns. DataFrames are an abstraction that lets us think of data in a familiar form (pandas `DataFrame`)."
   ]
  },
  {
   "cell_type": "code",
   "execution_count": 24,
   "metadata": {},
   "outputs": [],
   "source": [
    "##Creating DataFrames of the training and test sets\n",
    "sqlContext = SQLContext(sc)\n",
    "##\n",
    "training_set_all = sc.textFile(localpath('spark-class-data/posts_train/'))\\\n",
    "            .filter(isrow)\\\n",
    "            .map(get_body)\\\n",
    "            .filter(lambda x: x is not None)\\\n",
    "            .map(removeStopWords)\\\n",
    "            .filter(lambda x: x is not None)\\\n",
    "            .map(stemming)\\\n",
    "            .filter(lambda x: x is not None)\\\n",
    "            .toDF(['text', 'label'])\n",
    "\n",
    "test_set_all = sc.textFile(localpath('spark-class-data/posts_test/'))\\\n",
    "            .filter(isrow)\\\n",
    "            .map(get_body)\\\n",
    "            .filter(lambda x: x is not None)\\\n",
    "            .map(removeStopWords)\\\n",
    "            .filter(lambda x: x is not None)\\\n",
    "            .map(stemming)\\\n",
    "            .filter(lambda x: x is not None)\\\n",
    "            .toDF(['text', 'label'])"
   ]
  },
  {
   "cell_type": "markdown",
   "metadata": {},
   "source": [
    "**Tokenization and Vectorization:** Now it's required to create the `Transformers` and `Estimators` for the training.  I used two `Transformers`, a `Tokenizer` to tokenize the words and then a `HashingTF` to hash these words into a feature matrix (effectively a word count with a hash function).  Lastly, I used a `LogisticRegression` `Estimator` to perform the logistic regression classification.  \n",
    "\n",
    "Each of these `ML` objects take both an `inputCol` and an `outputCol` keyword argument (they have reasonably sane defaults).  When their transform method is called, they take the input `DataFrame` and produce a `DataFrame` which has the extra column `outputCol` with the relevant transformation applied to `inputCol`."
   ]
  },
  {
   "cell_type": "code",
   "execution_count": 26,
   "metadata": {},
   "outputs": [],
   "source": [
    "tokenizer = Tokenizer(inputCol=\"text\", outputCol=\"words\")\n",
    "hashingTF = HashingTF(inputCol=tokenizer.getOutputCol(), outputCol=\"features\")\n",
    "logreg = LogisticRegression(maxIter=5, regParam=0.1)\n",
    "\n",
    "tokens = tokenizer.transform(training_set_all)\n",
    "hashes = hashingTF.transform(tokens)\n",
    "model = logreg.fit(hashes)"
   ]
  },
  {
   "cell_type": "markdown",
   "metadata": {},
   "source": [
    "Now we can make predictions on our test data.  Note that we do need to perform the same transformations in the same order we did on training data before we can call the `transform` method of the fitted model.  Once we get a prediction, we can select out the particular columns of the `DataFrame` we care about."
   ]
  },
  {
   "cell_type": "code",
   "execution_count": 32,
   "metadata": {},
   "outputs": [
    {
     "name": "stdout",
     "output_type": "stream",
     "text": [
      "+--------------------+--------------------+----------+-----+\n",
      "|            features|         probability|prediction|label|\n",
      "+--------------------+--------------------+----------+-----+\n",
      "|(262144,[3564,607...|[0.35592194672787...|       1.0|  1.0|\n",
      "|(262144,[3798,735...|[0.00369985056426...|       1.0|  1.0|\n",
      "|(262144,[2574,649...|[0.71439648450096...|       0.0|  1.0|\n",
      "|(262144,[3889,124...|[0.18483876172208...|       1.0|  1.0|\n",
      "|(262144,[3564,762...|[0.47566664424752...|       1.0|  1.0|\n",
      "+--------------------+--------------------+----------+-----+\n",
      "only showing top 5 rows\n",
      "\n"
     ]
    }
   ],
   "source": [
    "# Make predictions on test documents\n",
    "test_tokens = tokenizer.transform(test_set_all)\n",
    "test_hashes = hashingTF.transform(test_tokens)\n",
    "\n",
    "prediction = model.transform(test_hashes)\n",
    "selected = prediction.select(\"probability\", \"label\", \"prediction\")\n",
    "prediction.select([\"features\", \"probability\", \"prediction\",\"label\"]).show(5)"
   ]
  },
  {
   "cell_type": "code",
   "execution_count": 37,
   "metadata": {},
   "outputs": [
    {
     "name": "stdout",
     "output_type": "stream",
     "text": [
      "Test set accuracy = 0.8623809523809523\n"
     ]
    }
   ],
   "source": [
    "# compute accuracy on the test set\n",
    "result = model.transform(test_hashes)\n",
    "predictionAndLabels = result.select(\"prediction\", \"label\")\n",
    "evaluator = BinaryClassificationEvaluator(metricName=\"accuracy\")\n",
    "print(\"Test set accuracy = \" + str(evaluator.evaluate(predictionAndLabels)))"
   ]
  },
  {
   "cell_type": "markdown",
   "metadata": {},
   "source": [
    "The accuracy of the model on the test data is good, but let's see if we can improve the accuracy by tunning the hyperparameters of the model."
   ]
  },
  {
   "cell_type": "markdown",
   "metadata": {},
   "source": [
    "### Hyperparameters Optimization"
   ]
  },
  {
   "cell_type": "markdown",
   "metadata": {},
   "source": [
    "Tuning hyperparameters through cross validation is necessary for the most performant models. While doing this grid search by hand is not difficult, there is a perfectly good high level model already built in. We can use a ParamGridBuild object to build a grid to search over. Each Transformer has a number of hyperparameters we can tune, and we can add a grid for as few or as many of these as we would like. The hyperparameters were the reglarization factor of the  logistic regression model and the number of features in HashingTF."
   ]
  },
  {
   "cell_type": "code",
   "execution_count": 41,
   "metadata": {},
   "outputs": [],
   "source": [
    "pipeline = Pipeline(stages=[tokenizer, hashingTF, logreg])\n",
    "paramGrid = (ParamGridBuilder() \n",
    "    .addGrid(hashingTF.numFeatures, [1000,8000,20000,40000]) \n",
    "    .addGrid(logreg.regParam, [1,0.5,0.1,0.05,0.001])\n",
    "    .build())"
   ]
  },
  {
   "cell_type": "code",
   "execution_count": 42,
   "metadata": {},
   "outputs": [],
   "source": [
    "crossval = CrossValidator(estimator=pipeline,\n",
    "                          estimatorParamMaps=paramGrid,\n",
    "                          evaluator=BinaryClassificationEvaluator(),\n",
    "                          numFolds=5)"
   ]
  },
  {
   "cell_type": "code",
   "execution_count": 43,
   "metadata": {},
   "outputs": [],
   "source": [
    "cvModel = crossval.fit(training_set_all)"
   ]
  },
  {
   "cell_type": "markdown",
   "metadata": {},
   "source": [
    "Now, let's look at the best parameters found:"
   ]
  },
  {
   "cell_type": "code",
   "execution_count": 44,
   "metadata": {},
   "outputs": [
    {
     "data": {
      "text/plain": [
       "{Param(parent='HashingTF_6eac42a3eaf2', name='numFeatures', doc='Number of features. Should be greater than 0.'): 40000,\n",
       " Param(parent='LogisticRegression_8e0c90c00257', name='regParam', doc='regularization parameter (>= 0).'): 0.001}"
      ]
     },
     "execution_count": 44,
     "metadata": {},
     "output_type": "execute_result"
    }
   ],
   "source": [
    "best_run = np.array(cvModel.avgMetrics).argmin()\n",
    "paramGrid[best_run]"
   ]
  },
  {
   "cell_type": "code",
   "execution_count": 45,
   "metadata": {},
   "outputs": [],
   "source": [
    "best_prediction = cvModel.bestModel.transform(test_set_all)\n",
    "selected = best_prediction.select(\"probability\", \"label\", \"prediction\")"
   ]
  },
  {
   "cell_type": "code",
   "execution_count": 46,
   "metadata": {},
   "outputs": [
    {
     "name": "stdout",
     "output_type": "stream",
     "text": [
      "Test set accuracy = 0.9601609723309426\n"
     ]
    }
   ],
   "source": [
    "# compute accuracy on the test set\n",
    "predictionAndLabels = best_prediction.select(\"prediction\", \"label\")\n",
    "evaluator = BinaryClassificationEvaluator(metricName=\"accuracy\")\n",
    "print(\"Test set accuracy = \" + str(evaluator.evaluate(predictionAndLabels)))"
   ]
  },
  {
   "cell_type": "markdown",
   "metadata": {},
   "source": [
    "Awesome! We could achive 96 % accuracy through optimizing the hyperparameters of the model!"
   ]
  }
 ],
 "metadata": {
  "kernelspec": {
   "display_name": "Python 3",
   "language": "python",
   "name": "python3"
  },
  "language_info": {
   "codemirror_mode": {
    "name": "ipython",
    "version": 3
   },
   "file_extension": ".py",
   "mimetype": "text/x-python",
   "name": "python",
   "nbconvert_exporter": "python",
   "pygments_lexer": "ipython3",
   "version": "3.8.5"
  },
  "nbclean": true
 },
 "nbformat": 4,
 "nbformat_minor": 4
}
